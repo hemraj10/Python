{
  "nbformat": 4,
  "nbformat_minor": 0,
  "metadata": {
    "colab": {
      "provenance": [],
      "authorship_tag": "ABX9TyOD07Y7/03QekonfepB/R5p",
      "include_colab_link": true
    },
    "kernelspec": {
      "name": "python3",
      "display_name": "Python 3"
    },
    "language_info": {
      "name": "python"
    }
  },
  "cells": [
    {
      "cell_type": "markdown",
      "metadata": {
        "id": "view-in-github",
        "colab_type": "text"
      },
      "source": [
        "<a href=\"https://colab.research.google.com/github/hemraj10/Python/blob/main/decisions1.ipynb\" target=\"_parent\"><img src=\"https://colab.research.google.com/assets/colab-badge.svg\" alt=\"Open In Colab\"/></a>"
      ]
    },
    {
      "cell_type": "code",
      "execution_count": null,
      "metadata": {
        "colab": {
          "base_uri": "https://localhost:8080/"
        },
        "id": "pB2ToP6KywDg",
        "outputId": "757acc6d-1fb8-4b20-b77e-87f37138f850"
      },
      "outputs": [
        {
          "output_type": "stream",
          "name": "stdout",
          "text": [
            "Please enter a number-67\n",
            "-67 is a negative number\n"
          ]
        }
      ],
      "source": [
        "#Check if a number is positive\n",
        "number_1=int(input(\"Please enter a number\"))\n",
        "if number_1>0:\n",
        "  print(f\"{number_1} is a positive number\")\n",
        "else:\n",
        "  print(f\"{number_1} is a negative number\")\n"
      ]
    },
    {
      "cell_type": "code",
      "source": [
        "#Check if a letter is in a word\n",
        "word_1=input(\"Enter the word\")\n",
        "if \"t\" or \"T\" in word_1:\n",
        "  print(\"t is in the word\")\n"
      ],
      "metadata": {
        "colab": {
          "base_uri": "https://localhost:8080/"
        },
        "id": "3pkoNGffzmkK",
        "outputId": "4526f6b9-d8b7-4fb1-f530-c3a20c8a11c0"
      },
      "execution_count": null,
      "outputs": [
        {
          "output_type": "stream",
          "name": "stdout",
          "text": [
            "Enter the wordTant\n",
            "t is in the word\n"
          ]
        }
      ]
    },
    {
      "cell_type": "code",
      "source": [
        "#Check if a number is even or odd\n",
        "number_1=int(input(\"please enter a number\"))\n",
        "if number_1%2==0:\n",
        "  print(f\"{number_1} is a even number\")\n",
        "if number_1>0:\n",
        "  print(f\"{number_1} is greater than 0\")\n"
      ],
      "metadata": {
        "colab": {
          "base_uri": "https://localhost:8080/"
        },
        "id": "wB0gUqJx2gUb",
        "outputId": "57fdb7bf-68e9-4f06-814d-2a46403fccd1"
      },
      "execution_count": null,
      "outputs": [
        {
          "output_type": "stream",
          "name": "stdout",
          "text": [
            "please enter a number56\n",
            "56 is a even number\n",
            "56 is greater than 0\n"
          ]
        }
      ]
    },
    {
      "cell_type": "code",
      "source": [
        "#for loop\n",
        "fruits=[\"apple\",\"fig\",\"grapes\"]\n",
        "for i in fruits:\n",
        "  print(i)"
      ],
      "metadata": {
        "colab": {
          "base_uri": "https://localhost:8080/"
        },
        "id": "075Winad3yYe",
        "outputId": "1ee75148-314c-42ee-ca81-4a979de5230a"
      },
      "execution_count": null,
      "outputs": [
        {
          "output_type": "stream",
          "name": "stdout",
          "text": [
            "apple\n",
            "fig\n",
            "grapes\n"
          ]
        }
      ]
    },
    {
      "cell_type": "code",
      "source": [
        "for i in range(5):\n",
        "  print(i)"
      ],
      "metadata": {
        "colab": {
          "base_uri": "https://localhost:8080/"
        },
        "id": "hJwZx9-H390B",
        "outputId": "ce1c4e86-72a7-4c08-e57b-3fb48d3e54df"
      },
      "execution_count": null,
      "outputs": [
        {
          "output_type": "stream",
          "name": "stdout",
          "text": [
            "0\n",
            "1\n",
            "2\n",
            "3\n",
            "4\n"
          ]
        }
      ]
    },
    {
      "cell_type": "code",
      "source": [],
      "metadata": {
        "id": "5VbOBdaQ4jYh"
      },
      "execution_count": null,
      "outputs": []
    }
  ]
}